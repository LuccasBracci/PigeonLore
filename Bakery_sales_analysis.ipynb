{
  "nbformat": 4,
  "nbformat_minor": 0,
  "metadata": {
    "colab": {
      "provenance": [],
      "authorship_tag": "ABX9TyOx58Dcgp0qbPvm4y0RasYd",
      "include_colab_link": true
    },
    "kernelspec": {
      "name": "python3",
      "display_name": "Python 3"
    },
    "language_info": {
      "name": "python"
    },
    "accelerator": "GPU",
    "gpuClass": "standard"
  },
  "cells": [
    {
      "cell_type": "markdown",
      "metadata": {
        "id": "view-in-github",
        "colab_type": "text"
      },
      "source": [
        "<a href=\"https://colab.research.google.com/github/PigeonLore/PigeonLore/blob/main/Bakery_sales_analysis.ipynb\" target=\"_parent\"><img src=\"https://colab.research.google.com/assets/colab-badge.svg\" alt=\"Open In Colab\"/></a>"
      ]
    },
    {
      "cell_type": "markdown",
      "source": [
        "# **Bake Sale Mini-Project**\n",
        "\n",
        "**Our Task**\n",
        "\n",
        "Often in your work as a data science you will be loading outside datasets into your Python environment. Today, however, we will create a simple data set for a mini-project analyzing the results of a bake sale.\n",
        "\n",
        "\n",
        "Let's suppose the \"Teens for Tech\" club has asked you to help them analyze data from their ongoing bake sale.\n",
        "\n",
        "\n",
        "\n",
        "\n",
        "* They are planning on selling the following baked goods every day for a week.em\n",
        "\n",
        "  1.   brownie: $2\n",
        "\n",
        "  2.   cookie: $1\n",
        "\n",
        "  3.   cake: $10\n",
        "\n",
        "* They were hoping to raise $200.\n",
        "\n"
      ],
      "metadata": {
        "id": "DMLxyOoTiWpv"
      }
    },
    {
      "cell_type": "markdown",
      "source": [
        "# 1. Starting with Lists\n",
        "**Names**\n",
        "\n",
        "* Declare a variable, ` name_list `, that is a list containing the names of the baked goods they plan to sell.\n",
        "* Print the names list"
      ],
      "metadata": {
        "id": "Sc-fcsavjI8v"
      }
    },
    {
      "cell_type": "code",
      "execution_count": 36,
      "metadata": {
        "colab": {
          "base_uri": "https://localhost:8080/"
        },
        "id": "3lWbR2Voh4Pd",
        "outputId": "df93d0fd-8c40-48c4-ff13-4570f0cca365"
      },
      "outputs": [
        {
          "output_type": "stream",
          "name": "stdout",
          "text": [
            "['brownie', 'cookie', 'cake']\n"
          ]
        }
      ],
      "source": [
        "names_list = ['brownie','cookie','cake']\n",
        "print(names_list)"
      ]
    },
    {
      "cell_type": "markdown",
      "source": [
        "# Prices\n",
        "* Declare a second variable, `prices_list`, that is a list containing the prices of each good (as integers).\n",
        "  * Make that you have the names and prices in the same order (if brownie is first in your names list, then its price should be the first value in your prices list).\n",
        "* Print the prices list."
      ],
      "metadata": {
        "id": "RslKvM0kkDo3"
      }
    },
    {
      "cell_type": "code",
      "source": [
        "prices_list = [2,1,10]\n",
        "print(prices_list)"
      ],
      "metadata": {
        "colab": {
          "base_uri": "https://localhost:8080/"
        },
        "id": "HXTfjnNCkSJv",
        "outputId": "07839671-b86c-4c04-b75d-a1b2a1a00b8f"
      },
      "execution_count": 37,
      "outputs": [
        {
          "output_type": "stream",
          "name": "stdout",
          "text": [
            "[2, 1, 10]\n"
          ]
        }
      ]
    },
    {
      "cell_type": "markdown",
      "source": [
        "# Bake Sale Results (So Far)\n",
        "**Quantities Sold**\n",
        "* So far, the club has sold:\n",
        "  * 17 brownies\n",
        "  * 40 cookies\n",
        "  * and 1 cake.\n",
        "* Declare a new list with these values called `quantities_sold_list`.\n",
        "* Print the quantities_sold_list."
      ],
      "metadata": {
        "id": "4uP4xsExkcDq"
      }
    },
    {
      "cell_type": "code",
      "source": [
        "quantities_sold_list = [17,40,1]\n",
        "print(quantities_sold_list)"
      ],
      "metadata": {
        "colab": {
          "base_uri": "https://localhost:8080/"
        },
        "id": "JtMim2Suk5H0",
        "outputId": "314b3efc-1b7c-4428-f0fb-0e62be415888"
      },
      "execution_count": 38,
      "outputs": [
        {
          "output_type": "stream",
          "name": "stdout",
          "text": [
            "[17, 40, 1]\n"
          ]
        }
      ]
    },
    {
      "cell_type": "markdown",
      "source": [
        "# Calculating the Sales\n",
        "You should now have:\n",
        "\n",
        "  * a list called `names_list` that contains 'brownie', 'cookie', 'cake'\n",
        "  * a list called `prices_list` that contains 2,1,10.\n",
        "  * a list called `quantities_sold_list` that contains 17, 40, 1.\n",
        "  \n",
        "We want to calculate the total money earned from each of the baked goods so far. We simply need to multiply each price by the corresponding quantity sold."
      ],
      "metadata": {
        "id": "n3DCAql1lHNT"
      }
    },
    {
      "cell_type": "code",
      "source": [
        "# prices_list * quantities_sold_list"
      ],
      "metadata": {
        "id": "qDH9PCrslUQB"
      },
      "execution_count": 39,
      "outputs": []
    },
    {
      "cell_type": "markdown",
      "source": [
        "# 2. Creating a NumPy Array\n",
        "First, we must import NumPy. We will use the conventional alias, np. Once you've done that NumPy will be loaded and you can start start using its functions."
      ],
      "metadata": {
        "id": "V03ojSbilawl"
      }
    },
    {
      "cell_type": "code",
      "source": [
        "import numpy as np"
      ],
      "metadata": {
        "id": "qVYARRsKledw"
      },
      "execution_count": 40,
      "outputs": []
    },
    {
      "cell_type": "markdown",
      "source": [
        "# Converting Our Lists to 1-Dimensional Arrays\n",
        "You can use the function `np.array()` to change a Python collection into a NumPy array.\n",
        "\n",
        "* Create new NumPy array versions of the `prices_list`, `quantities_sold_list`, and `names_list`.\n",
        "  * We can drop the `_list` from the names of our new variables.\n",
        "* Print each of them.\n",
        "\n",
        "The result should look like a list with no commas. (Remember you could use display() instead of print() if you prefer to see the commas separating each value.)"
      ],
      "metadata": {
        "id": "KBiM3KPcliZG"
      }
    },
    {
      "cell_type": "code",
      "source": [
        "from numpy.matrixlib.defmatrix import N\n",
        "# convert each of our lists to a numpy array and print it to verify the result\n",
        "names = N.array(names_list)\n",
        "print(names)\n",
        "prices = N.array(prices_list)\n",
        "print(prices)\n",
        "quantities_sold = N.array(quantities_sold_list)\n",
        "print(quantities_sold)"
      ],
      "metadata": {
        "colab": {
          "base_uri": "https://localhost:8080/"
        },
        "id": "9O4y9AUbmC_V",
        "outputId": "01cce0f2-918d-4be5-a8fe-99885823a383"
      },
      "execution_count": 41,
      "outputs": [
        {
          "output_type": "stream",
          "name": "stdout",
          "text": [
            "['brownie' 'cookie' 'cake']\n",
            "[ 2  1 10]\n",
            "[17 40  1]\n"
          ]
        }
      ]
    },
    {
      "cell_type": "markdown",
      "source": [
        "Arrays are ordered and mutable, just like lists, but they are faster and more memory efficient.\n",
        "\n",
        " # 3. Elementwise Calculations\n",
        "\n",
        "**Calculating Our Sales (For real this time!)**\n",
        "\n",
        "Unlike lists, arrays can be multiplied. Now, let's go back to our original problem: we would like to find the money collected for each type of item. We want the price * quantity_sold for each item. Let's try multiplying our arrays."
      ],
      "metadata": {
        "id": "qqIWw--AmkF7"
      }
    },
    {
      "cell_type": "code",
      "source": [
        "prices * quantities_sold"
      ],
      "metadata": {
        "colab": {
          "base_uri": "https://localhost:8080/"
        },
        "id": "5uJ_WHeOmvt-",
        "outputId": "e1571357-383e-4724-f959-9f9c50c26cab"
      },
      "execution_count": 42,
      "outputs": [
        {
          "output_type": "execute_result",
          "data": {
            "text/plain": [
              "array([34, 40, 10])"
            ]
          },
          "metadata": {},
          "execution_count": 42
        }
      ]
    },
    {
      "cell_type": "markdown",
      "source": [
        "Yes! by using the NumPy arrays, we can easily determine that we collected \n",
        "\\$34  from the sale of brownies, \n",
        "\\$40 from the sale of cookies,\n",
        "and\n",
        "\\$10 for the sale of cakes. \n",
        "\n",
        "As you saw above, we calculated the revenue for each baked good so far, the multiplication was applied between the first element of each array, then between the second element of each array, and so on. This is known as an \n",
        "\n",
        "*\"elementwise\" calculation.*\n",
        "\n",
        "Let's look at another example of elementwise calculations by factoring in the cost to make each baked good.\n",
        "\n",
        "# Accounting for Costs\n",
        "The club wants to account for the expense of making each baked good so that we can calculate the profit for each baked good (Profit = price - expenses).\n",
        "\n",
        "The expense of making each baked good is:\n",
        "\n",
        "* a brownie costs $0.25 to make.\n",
        "\n",
        "* a cookie costs $0.50 to make.\n",
        "\n",
        "* a cake costs $5.00 to make.\n",
        "\n",
        "Now, let's create an array that corresponds to the expense of making each of the items sold at the bake sale."
      ],
      "metadata": {
        "id": "O9PagPzPm0OE"
      }
    },
    {
      "cell_type": "code",
      "source": [
        "expenses_list = [0.25,0.5,5.00]\n",
        "expenses = np.array(expenses_list)\n",
        "print(expenses)"
      ],
      "metadata": {
        "colab": {
          "base_uri": "https://localhost:8080/"
        },
        "id": "a3KZTSdCorJm",
        "outputId": "6f72a9ea-27aa-4aa5-d3b6-9210262ea57d"
      },
      "execution_count": 43,
      "outputs": [
        {
          "output_type": "stream",
          "name": "stdout",
          "text": [
            "[0.25 0.5  5.  ]\n"
          ]
        }
      ]
    },
    {
      "cell_type": "markdown",
      "source": [
        "* Note: alternately, we could do this in 1 step by creating our list inside of np.array() instead of saving it as a separate variable first."
      ],
      "metadata": {
        "id": "YUEeTQTDpBbv"
      }
    },
    {
      "cell_type": "code",
      "source": [
        "expenses = N.array([0.25,0.5,5.00])\n",
        "print(expenses)"
      ],
      "metadata": {
        "colab": {
          "base_uri": "https://localhost:8080/"
        },
        "id": "EZVicqKhpF9u",
        "outputId": "1716a3c3-4fb6-47ea-b1c1-2201ddee9013"
      },
      "execution_count": 44,
      "outputs": [
        {
          "output_type": "stream",
          "name": "stdout",
          "text": [
            "[0.25 0.5  5.  ]\n"
          ]
        }
      ]
    },
    {
      "cell_type": "markdown",
      "source": [
        "# Calculating Profits\n",
        "  * To find the profit of each baked good, we want to subtract the expenses from the price."
      ],
      "metadata": {
        "id": "Umar1VdgpTNp"
      }
    },
    {
      "cell_type": "code",
      "source": [
        "profits = prices - expenses\n",
        "profits"
      ],
      "metadata": {
        "colab": {
          "base_uri": "https://localhost:8080/"
        },
        "id": "d8Ou9waipZpn",
        "outputId": "b5675c30-116c-4f81-cf85-ec150bcd190f"
      },
      "execution_count": 45,
      "outputs": [
        {
          "output_type": "execute_result",
          "data": {
            "text/plain": [
              "array([1.75, 0.5 , 5.  ])"
            ]
          },
          "metadata": {},
          "execution_count": 45
        }
      ]
    },
    {
      "cell_type": "markdown",
      "source": [],
      "metadata": {
        "id": "_H1XFtH32-la"
      }
    },
    {
      "cell_type": "markdown",
      "source": [
        "# Elementwise Booleans\n",
        "Suppose you wanted to identify which items made a profit greater than $2 per item. You could use the following code to ask if the statement is true or false for each element in the array."
      ],
      "metadata": {
        "id": "dWd-afuxpeov"
      }
    },
    {
      "cell_type": "code",
      "source": [
        "profits > 2"
      ],
      "metadata": {
        "colab": {
          "base_uri": "https://localhost:8080/"
        },
        "id": "3zVcwCaNphIY",
        "outputId": "d8fa1646-6f87-475b-8c5e-49c952c6cc73"
      },
      "execution_count": 46,
      "outputs": [
        {
          "output_type": "execute_result",
          "data": {
            "text/plain": [
              "array([False, False,  True])"
            ]
          },
          "metadata": {},
          "execution_count": 46
        }
      ]
    },
    {
      "cell_type": "markdown",
      "source": [
        "But what if we wanted to know the **names** of which baked goods had profits > 2.\n",
        "\n",
        "  * We could save the True/False array above and then use that as an index to slice from our array of names!"
      ],
      "metadata": {
        "id": "PzqnIic2pkJp"
      }
    },
    {
      "cell_type": "code",
      "source": [
        "index_profits = profits > 2\n",
        "index_profits"
      ],
      "metadata": {
        "colab": {
          "base_uri": "https://localhost:8080/"
        },
        "id": "jICrj_rEpplv",
        "outputId": "e6d2587c-ec0d-46c2-a07b-c02b5fdd48e1"
      },
      "execution_count": 47,
      "outputs": [
        {
          "output_type": "execute_result",
          "data": {
            "text/plain": [
              "array([False, False,  True])"
            ]
          },
          "metadata": {},
          "execution_count": 47
        }
      ]
    },
    {
      "cell_type": "code",
      "source": [
        "names[index_profits]"
      ],
      "metadata": {
        "colab": {
          "base_uri": "https://localhost:8080/"
        },
        "id": "GheL9Obwpv-_",
        "outputId": "f8c05db1-bd7a-4215-fa31-6716421e614b"
      },
      "execution_count": 48,
      "outputs": [
        {
          "output_type": "execute_result",
          "data": {
            "text/plain": [
              "array(['cake'], dtype='<U7')"
            ]
          },
          "metadata": {},
          "execution_count": 48
        }
      ]
    },
    {
      "cell_type": "markdown",
      "source": [
        "* NumPy automatically assumed that we only wanted the values from names where the index was True.\n",
        "\n",
        "* If we wanted to get the opposite list of names with profits <=2, we could create a new index of `profits <=2`.\n",
        "\n",
        "* But since we already have the opposite list, we can simply use the `~` operator to take the opposite result."
      ],
      "metadata": {
        "id": "EGDlsgd4p6wO"
      }
    },
    {
      "cell_type": "code",
      "source": [
        "~index_profits"
      ],
      "metadata": {
        "colab": {
          "base_uri": "https://localhost:8080/"
        },
        "id": "Zo9_8OxAqAm_",
        "outputId": "39274b19-d532-4c62-f2d7-4f46fc0b17bd"
      },
      "execution_count": 49,
      "outputs": [
        {
          "output_type": "execute_result",
          "data": {
            "text/plain": [
              "array([ True,  True, False])"
            ]
          },
          "metadata": {},
          "execution_count": 49
        }
      ]
    },
    {
      "cell_type": "code",
      "source": [
        "names[~index_profits]"
      ],
      "metadata": {
        "colab": {
          "base_uri": "https://localhost:8080/"
        },
        "id": "_ZK5ki73qG8-",
        "outputId": "0e1f7323-5b4a-4668-9d89-f3c8c93771b1"
      },
      "execution_count": 50,
      "outputs": [
        {
          "output_type": "execute_result",
          "data": {
            "text/plain": [
              "array(['brownie', 'cookie'], dtype='<U7')"
            ]
          },
          "metadata": {},
          "execution_count": 50
        }
      ]
    },
    {
      "cell_type": "markdown",
      "source": [
        "# 4. Appending, Deleting, and Replacing Elements in a NumPy Array"
      ],
      "metadata": {
        "id": "mHico3TNqMYv"
      }
    },
    {
      "cell_type": "markdown",
      "source": [
        "**Appending**\n",
        "\n",
        "The club will also sell pies for $7 so we need to update our price_array.\n",
        "\n",
        "Based on your experience with lists, you might think the following code would work to include an additional element to our array:"
      ],
      "metadata": {
        "id": "HmirnIPzqrbr"
      }
    },
    {
      "cell_type": "code",
      "source": [
        "prices = prices + [7]\n",
        "prices"
      ],
      "metadata": {
        "colab": {
          "base_uri": "https://localhost:8080/"
        },
        "id": "UsNGktsPqSSO",
        "outputId": "e68094c3-ee99-4200-8349-aa47b4e86990"
      },
      "execution_count": 51,
      "outputs": [
        {
          "output_type": "execute_result",
          "data": {
            "text/plain": [
              "array([ 9,  8, 17])"
            ]
          },
          "metadata": {},
          "execution_count": 51
        }
      ]
    },
    {
      "cell_type": "markdown",
      "source": [
        "Wait! This is **not** the output we wanted! The NumPy array did what it does best: it added seven to each element in the array.\n",
        "\n",
        "To get back to the original values, we will subtract 7, then use the np.append() function to include the value 7 to the end of our array as desired."
      ],
      "metadata": {
        "id": "KZbwOYPlq2x7"
      }
    },
    {
      "cell_type": "code",
      "source": [
        "prices = prices - [7]\n",
        "prices"
      ],
      "metadata": {
        "colab": {
          "base_uri": "https://localhost:8080/"
        },
        "id": "PQ5YPqKxq75m",
        "outputId": "54a62553-4dbe-4937-dfd9-773b9fd9e06c"
      },
      "execution_count": 52,
      "outputs": [
        {
          "output_type": "execute_result",
          "data": {
            "text/plain": [
              "array([ 2,  1, 10])"
            ]
          },
          "metadata": {},
          "execution_count": 52
        }
      ]
    },
    {
      "cell_type": "markdown",
      "source": [
        "* Appending names of new baked good in names array."
      ],
      "metadata": {
        "id": "clndmu2krfkw"
      }
    },
    {
      "cell_type": "code",
      "source": [
        "prices = np.append(prices, 7)\n",
        "prices"
      ],
      "metadata": {
        "colab": {
          "base_uri": "https://localhost:8080/"
        },
        "id": "CkEqfoe6rFuf",
        "outputId": "4fd7e519-bb8c-4e52-ea4a-3f8005b242df"
      },
      "execution_count": 53,
      "outputs": [
        {
          "output_type": "execute_result",
          "data": {
            "text/plain": [
              "array([ 2,  1, 10,  7])"
            ]
          },
          "metadata": {},
          "execution_count": 53
        }
      ]
    },
    {
      "cell_type": "code",
      "source": [
        "names = np.append(names, 'pie')\n",
        "names"
      ],
      "metadata": {
        "colab": {
          "base_uri": "https://localhost:8080/"
        },
        "id": "mqT6gEFcrKhw",
        "outputId": "33b974f5-430a-4f74-9d1b-f4094f6b1496"
      },
      "execution_count": 54,
      "outputs": [
        {
          "output_type": "execute_result",
          "data": {
            "text/plain": [
              "array(['brownie', 'cookie', 'cake', 'pie'], dtype='<U7')"
            ]
          },
          "metadata": {},
          "execution_count": 54
        }
      ]
    },
    {
      "cell_type": "markdown",
      "source": [
        "**Appending Multiple Elements at Once**\n",
        "You can also append multiple values to the array in one command.\n",
        "\n",
        "For example, the club want to add the following items and prices:\n",
        "\n",
        "* \\$4.50 for fudge.\n",
        "* \\$3 for a cupcake.\n",
        "* \\$4 for a loaf of banana bread.\n",
        "* \\$9 for a torte.\n",
        "\n",
        "Notice the use of the square brackets to create a list as the second argument in the following code. This will append all four values to the array at once:"
      ],
      "metadata": {
        "id": "Ma3JVmRVr_tY"
      }
    },
    {
      "cell_type": "code",
      "source": [
        "prices = np.append(prices, [4.50, 3, 4, 9])\n",
        "prices"
      ],
      "metadata": {
        "colab": {
          "base_uri": "https://localhost:8080/"
        },
        "id": "WKgGJTyiscI4",
        "outputId": "26f4c988-37b7-45a0-a933-7083026a5d87"
      },
      "execution_count": 55,
      "outputs": [
        {
          "output_type": "execute_result",
          "data": {
            "text/plain": [
              "array([ 2. ,  1. , 10. ,  7. ,  4.5,  3. ,  4. ,  9. ])"
            ]
          },
          "metadata": {},
          "execution_count": 55
        }
      ]
    },
    {
      "cell_type": "markdown",
      "source": [
        "* Now let's append the new baked good's names to our names array."
      ],
      "metadata": {
        "id": "sPlbIW4Msk7d"
      }
    },
    {
      "cell_type": "code",
      "source": [
        "names = np.append(names, ['fudge','cupcake','banana bread','torte'])\n",
        "names"
      ],
      "metadata": {
        "colab": {
          "base_uri": "https://localhost:8080/"
        },
        "id": "x5f8hhu1skOw",
        "outputId": "ba03ddef-05b8-4b9c-e14e-2d4e2a88eb8a"
      },
      "execution_count": 56,
      "outputs": [
        {
          "output_type": "execute_result",
          "data": {
            "text/plain": [
              "array(['brownie', 'cookie', 'cake', 'pie', 'fudge', 'cupcake',\n",
              "       'banana bread', 'torte'], dtype='<U12')"
            ]
          },
          "metadata": {},
          "execution_count": 56
        }
      ]
    },
    {
      "cell_type": "markdown",
      "source": [
        "**Deleting**\n",
        "\n",
        "It turns out nobody plans to make a torte, so they want to remove the price of that item from the prices array and its name from the names array.\n",
        "\n",
        "We will use the np.delete() command, but we need to indicate which element to delete.\n",
        "\n",
        "We use indexing (much the same as indexing for lists) to indicate we want to remove the element at index 7 (remember to use zero-indexing) or since it is the last element, we could go from the right and use negative indexing (-1)."
      ],
      "metadata": {
        "id": "3javtSF4suSo"
      }
    },
    {
      "cell_type": "code",
      "source": [
        "names = np.delete(names, -1)\n",
        "display(names)\n",
        "prices = np.delete(prices, -1)\n",
        "prices"
      ],
      "metadata": {
        "colab": {
          "base_uri": "https://localhost:8080/",
          "height": 69
        },
        "id": "rbjuVZpCsxIA",
        "outputId": "69aa8715-8197-4fe9-9974-9dacc2025a8a"
      },
      "execution_count": 57,
      "outputs": [
        {
          "output_type": "display_data",
          "data": {
            "text/plain": [
              "array(['brownie', 'cookie', 'cake', 'pie', 'fudge', 'cupcake',\n",
              "       'banana bread'], dtype='<U12')"
            ]
          },
          "metadata": {}
        },
        {
          "output_type": "execute_result",
          "data": {
            "text/plain": [
              "array([ 2. ,  1. , 10. ,  7. ,  4.5,  3. ,  4. ])"
            ]
          },
          "metadata": {},
          "execution_count": 57
        }
      ]
    },
    {
      "cell_type": "markdown",
      "source": [
        "**Replacing**\n",
        "\n",
        "The club decided to raise the price of cakes from \\$10 to \\$12. We need to reflect this in our prices array.\n",
        "\n",
        "Once again, we will need to identify the element using the index. Let's confirm which index corresponds to cake. One approach we can use is the `enumerate` function."
      ],
      "metadata": {
        "id": "DGWEJKijs_Tu"
      }
    },
    {
      "cell_type": "code",
      "source": [
        "prices[2] = 12\n",
        "print(names[2])\n",
        "prices[2]"
      ],
      "metadata": {
        "colab": {
          "base_uri": "https://localhost:8080/"
        },
        "id": "2M1jtm5aUIsG",
        "outputId": "bba51897-6e48-4a2b-b684-15ae3a1737b5"
      },
      "execution_count": 58,
      "outputs": [
        {
          "output_type": "stream",
          "name": "stdout",
          "text": [
            "cake\n"
          ]
        },
        {
          "output_type": "execute_result",
          "data": {
            "text/plain": [
              "12.0"
            ]
          },
          "metadata": {},
          "execution_count": 58
        }
      ]
    },
    {
      "cell_type": "markdown",
      "source": [
        "# Assingment Starts Here\n",
        "--------------------------------------------------------------------------------"
      ],
      "metadata": {
        "id": "mUEAh0qp0RSG"
      }
    },
    {
      "cell_type": "markdown",
      "source": [
        "# 1) Use the enumerate function to print out the index # and name of every baked good in your `names` array."
      ],
      "metadata": {
        "id": "m8Nv2cuh0xA_"
      }
    },
    {
      "cell_type": "code",
      "source": [
        "for i, name in enumerate(names):\n",
        "  print(f'Index {i}: {name}')"
      ],
      "metadata": {
        "colab": {
          "base_uri": "https://localhost:8080/"
        },
        "id": "t9pJyAqN01Lk",
        "outputId": "d1e5c910-41ca-4e21-c0c5-ba08734581a5"
      },
      "execution_count": 59,
      "outputs": [
        {
          "output_type": "stream",
          "name": "stdout",
          "text": [
            "Index 0: brownie\n",
            "Index 1: cookie\n",
            "Index 2: cake\n",
            "Index 3: pie\n",
            "Index 4: fudge\n",
            "Index 5: cupcake\n",
            "Index 6: banana bread\n"
          ]
        }
      ]
    },
    {
      "cell_type": "markdown",
      "source": [
        " # 2. Update the quantity_sold_array to include the sale of 2 pies, 3 trays of fudge, 16 cupcakes, and 5 loaves of banana bread. You also realize that one of the cookies you thought was sold had actually fallen on the ground, so edit the quantity_sold_array from 40 to 39."
      ],
      "metadata": {
        "id": "NfvQIPY53Ctd"
      }
    },
    {
      "cell_type": "code",
      "source": [
        "#print(names[:7])\n",
        "#print(quantities_sold[:])\n",
        "quantities_sold = np.append(quantities_sold, [2,3,16,5])\n",
        "#print(quantities_sold)"
      ],
      "metadata": {
        "id": "lv5bWNvb2-4V"
      },
      "execution_count": 60,
      "outputs": []
    },
    {
      "cell_type": "code",
      "source": [
        "quantities_sold[1] = 39\n",
        "quantities_sold\n",
        "#np.sum(quantities_sold)"
      ],
      "metadata": {
        "id": "3LdZBTINPOKW",
        "colab": {
          "base_uri": "https://localhost:8080/"
        },
        "outputId": "b25d248c-937a-41c5-e4a1-e890ede4b6ff"
      },
      "execution_count": 61,
      "outputs": [
        {
          "output_type": "execute_result",
          "data": {
            "text/plain": [
              "array([17, 39,  1,  2,  3, 16,  5])"
            ]
          },
          "metadata": {},
          "execution_count": 61
        }
      ]
    },
    {
      "cell_type": "markdown",
      "source": [
        "# 3) Determine the amount of money collected from the sale of each item at the bake sale."
      ],
      "metadata": {
        "id": "UWpLbF4ZPk3y"
      }
    },
    {
      "cell_type": "code",
      "source": [
        "total_money = quantities_sold * prices\n",
        "#print(total_money)\n",
        "print(f\"${np.sum(total_money)}\")"
      ],
      "metadata": {
        "colab": {
          "base_uri": "https://localhost:8080/"
        },
        "id": "cbJVB9L9Pgux",
        "outputId": "72a5fd6e-6ac5-4154-8373-b9388950e341"
      },
      "execution_count": 62,
      "outputs": [
        {
          "output_type": "stream",
          "name": "stdout",
          "text": [
            "$180.5\n"
          ]
        }
      ]
    },
    {
      "cell_type": "markdown",
      "source": [
        "# 4) Create a NumPy array \"quantity_leftover\" that includes the quantity of each item remaining at the end of the sale: 2 cakes, 1 pie, 6 trays of fudge, 2 loaves of banana bread. \n",
        "**Hint: Make sure to include \"0\" for any item that was sold out. Why is this important when creating the array?**"
      ],
      "metadata": {
        "id": "ncpklzJKU7Gy"
      }
    },
    {
      "cell_type": "code",
      "source": [
        "quantities_leftover = np.array([0,0,2,1,6,0,2])\n",
        "quantities_leftover"
      ],
      "metadata": {
        "colab": {
          "base_uri": "https://localhost:8080/"
        },
        "id": "Q-kkT8E7U_yW",
        "outputId": "2f6775f5-fd9e-4287-9a3f-b37bb29f3d28"
      },
      "execution_count": 63,
      "outputs": [
        {
          "output_type": "execute_result",
          "data": {
            "text/plain": [
              "array([0, 0, 2, 1, 6, 0, 2])"
            ]
          },
          "metadata": {},
          "execution_count": 63
        }
      ]
    },
    {
      "cell_type": "markdown",
      "source": [
        "# 5) The club decides to sell the leftover items at half price and everything quickly sells out! Determine how much money was collected from the clearance sale."
      ],
      "metadata": {
        "id": "P2W1Rtl5f2W_"
      }
    },
    {
      "cell_type": "code",
      "source": [
        "prices_clearance = prices / 2\n",
        "#print(prices_clearance)\n",
        "total_money_clearance =  np.sum(prices_clearance)\n",
        "total_sold = quantities_leftover * prices_clearance\n",
        "#print(total_money)\n",
        "#print(total_sold)\n",
        "#print(prices)"
      ],
      "metadata": {
        "id": "e5kp_w7igA9P"
      },
      "execution_count": 64,
      "outputs": []
    },
    {
      "cell_type": "markdown",
      "source": [
        "# 6) How much total money was collected from the bake sale (including the sale of full price and clearance items)? Hint: Your final answer should be $213.50, but you must make sure you get this answer with your NumPy coding skills!!"
      ],
      "metadata": {
        "id": "E7N6zo4Gglwo"
      }
    },
    {
      "cell_type": "code",
      "source": [
        "print(f'${np.sum(total_money) + np.sum(total_sold)}')"
      ],
      "metadata": {
        "colab": {
          "base_uri": "https://localhost:8080/"
        },
        "id": "AeabE7QqgT6P",
        "outputId": "66e29500-3237-4bbb-ce31-6eccd31a9dff"
      },
      "execution_count": 65,
      "outputs": [
        {
          "output_type": "stream",
          "name": "stdout",
          "text": [
            "$213.5\n"
          ]
        }
      ]
    }
  ]
}